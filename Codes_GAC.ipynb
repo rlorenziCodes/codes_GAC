{
 "cells": [
  {
   "cell_type": "markdown",
   "metadata": {},
   "source": [
    "# Codes du test technique pour GAC Technology"
   ]
  },
  {
   "cell_type": "code",
   "execution_count": null,
   "metadata": {},
   "outputs": [],
   "source": []
  },
  {
   "cell_type": "markdown",
   "metadata": {},
   "source": [
    "## Imports"
   ]
  },
  {
   "cell_type": "code",
   "execution_count": 229,
   "metadata": {},
   "outputs": [],
   "source": [
    "import matplotlib.pyplot as plt\n",
    "import math\n",
    "import numpy as np\n",
    "import random\n",
    "from keras import models, layers\n",
    "import time"
   ]
  },
  {
   "cell_type": "markdown",
   "metadata": {},
   "source": [
    "## Etape 1 : Visualisation du problème"
   ]
  },
  {
   "cell_type": "code",
   "execution_count": 230,
   "metadata": {},
   "outputs": [],
   "source": [
    "# Fonction d'étude\n",
    "def fonc(x):\n",
    "    return 2*np.cos(x) + 4"
   ]
  },
  {
   "cell_type": "code",
   "execution_count": 231,
   "metadata": {},
   "outputs": [
    {
     "data": {
      "text/plain": [
       "[<matplotlib.lines.Line2D at 0x20ac886df98>]"
      ]
     },
     "execution_count": 231,
     "metadata": {},
     "output_type": "execute_result"
    },
    {
     "data": {
      "image/png": "[encoded data removed]",
      "text/plain": [
       "<Figure size 432x288 with 1 Axes>"
      ]
     },
     "metadata": {
      "needs_background": "light"
     },
     "output_type": "display_data"
    }
   ],
   "source": [
    "# Visualisation\n",
    "x = np.linspace(0,10,1000)\n",
    "plt.plot(x,fonc(x))"
   ]
  },
  {
   "cell_type": "markdown",
   "metadata": {},
   "source": [
    "## Etape 2 : Définition des données "
   ]
  },
  {
   "cell_type": "code",
   "execution_count": 232,
   "metadata": {},
   "outputs": [],
   "source": [
    "# 1ère possibilité : les points sont choisis selon un intervalle précis\n",
    "# In  : nbPoints    int, le nombre de points voulus\n",
    "# Out : la liste des x et des y\n",
    "def choix1(nbPoints):\n",
    "    x = np.linspace(0,10,nbPoints)\n",
    "    return x, fonc(x)"
   ]
  },
  {
   "cell_type": "code",
   "execution_count": 233,
   "metadata": {},
   "outputs": [],
   "source": [
    "# 2ème possibilité : les points sont choisis aléatoirement\n",
    "# In  : nbPoints    int, le nombre de points voulus\n",
    "# Out : la liste des x et des y\n",
    "def choix2(nbPoints) :\n",
    "    x = [0]\n",
    "    for i in range(nbPoints):\n",
    "        x.append(10 * random.random())\n",
    "    x.append(10)\n",
    "    return x, fonc(x)"
   ]
  },
  {
   "cell_type": "markdown",
   "metadata": {},
   "source": [
    "## Etape 3 : création du modèle"
   ]
  },
  {
   "cell_type": "code",
   "execution_count": 234,
   "metadata": {},
   "outputs": [],
   "source": [
    "# Construction d'un modèle à deux niveaux\n",
    "# In  : units     int,  le nombre d'units dans un layer\n",
    "# Out : le modèle\n",
    "def build_model_2l(units):\n",
    "    model = models.Sequential()\n",
    "    model.add(layers.Dense(units,activation = 'relu', input_shape = (1,)))\n",
    "    model.add(layers.Dense(units,activation = 'relu'))\n",
    "    model.add(layers.Dense(1))\n",
    "    model.compile(optimizer = 'rmsprop', loss= 'mse', metrics = ['mae'])\n",
    "    return model"
   ]
  },
  {
   "cell_type": "code",
   "execution_count": 235,
   "metadata": {},
   "outputs": [],
   "source": [
    "# Construction d'un modèle à trois niveaux\n",
    "# In  : units     int,  le nombre d'units dans un layer\n",
    "# Out : le modèle\n",
    "def build_model_3l(units):\n",
    "    model = models.Sequential()\n",
    "    model.add(layers.Dense(units,activation = 'relu', input_shape = (1,)))\n",
    "    model.add(layers.Dense(units,activation = 'relu'))\n",
    "    model.add(layers.Dense(int(units/2),activation = 'relu'))\n",
    "    model.add(layers.Dense(1))\n",
    "    model.compile(optimizer = 'rmsprop', loss= 'mse', metrics = ['mae'])\n",
    "    return model"
   ]
  },
  {
   "cell_type": "code",
   "execution_count": 236,
   "metadata": {},
   "outputs": [],
   "source": [
    "# Construction d'un modèle à quatre niveaux\n",
    "# In  : units     int,  le nombre d'units dans un layer\n",
    "# Out : le modèle\n",
    "def build_model_4l(units):\n",
    "    model = models.Sequential()\n",
    "    model.add(layers.Dense(units,activation = 'relu', input_shape = (1,)))\n",
    "    model.add(layers.Dense(units,activation = 'relu'))\n",
    "    model.add(layers.Dense(int(units/2),activation = 'relu'))\n",
    "    model.add(layers.Dense(int(units/2),activation = 'relu'))\n",
    "    model.add(layers.Dense(1))\n",
    "    model.compile(optimizer = 'rmsprop', loss= 'mse', metrics = ['mae'])\n",
    "    return model"
   ]
  },
  {
   "cell_type": "markdown",
   "metadata": {},
   "source": [
    "## Etape 4 : Validation du modèle -- neuronnes"
   ]
  },
  {
   "cell_type": "code",
   "execution_count": 247,
   "metadata": {},
   "outputs": [],
   "source": [
    "# Fonction qui permet de choisir le meilleur nombre de neuronnes\n",
    "# In  : units      list(int),  liste des units à tester\n",
    "#       layer      int,        nombre de niveaux du modèle\n",
    "#       data       array,      les données training\n",
    "#       target     array,      les cibles\n",
    "#       k          int,        le nombre de partitions\n",
    "# Out : la MAE moyenne pour chaque taille de layer\n",
    "def choix_neuronnes(units,layer,data,target,k):\n",
    "    nbPoints = len(data)\n",
    "    nbVal = nbPoints//k\n",
    "    scores = {}\n",
    "    \n",
    "    # Croos validation\n",
    "    for i in range(k):\n",
    "        deb = time.time()\n",
    "        \n",
    "        # Construction des jeux de données\n",
    "        vali_data = data[i*nbVal:(i+1)*nbVal]\n",
    "        vali_target = target[i*nbVal:(i+1)*nbVal]\n",
    "        train_data = np.array(list(data[:i*nbVal]) + list(data[(i+1)*nbVal:]))\n",
    "        train_target = np.array(list(target[:i*nbVal])+list(target[(i+1)*nbVal:]))\n",
    "        for u in units:\n",
    "            if layer == 4:\n",
    "                model = build_model_4l(u)\n",
    "            elif layer == 3:\n",
    "                model = build_model_3l(u)\n",
    "            else:\n",
    "                model = build_model_2l(u)\n",
    "            \n",
    "            # Apprentissage\n",
    "            model.fit(x,y,epochs = 50, batch_size = 1, verbose = 0)\n",
    "            val_mse, val_mae = model.evaluate(vali_data, vali_target, verbose = 0)\n",
    "            if u in scores.keys():\n",
    "                scores[u].append(val_mae)\n",
    "            else:\n",
    "                scores[u] = [val_mae]\n",
    "                                \n",
    "        fin = time.time()\n",
    "        print(\"Itération \" + str(i) + ' : ' + str(round(fin-deb,2)) + 's')\n",
    "    \n",
    "    # Résultat\n",
    "    res = {}\n",
    "    for u in units:\n",
    "        res[u] = np.mean(scores[u])\n",
    "        \n",
    "    return res"
   ]
  },
  {
   "cell_type": "code",
   "execution_count": 242,
   "metadata": {},
   "outputs": [],
   "source": [
    "# Création des données\n",
    "nbPoints = 1000\n",
    "x, y = choix1(nbPoints)"
   ]
  },
  {
   "cell_type": "code",
   "execution_count": 248,
   "metadata": {
    "collapsed": true
   },
   "outputs": [
    {
     "name": "stdout",
     "output_type": "stream",
     "text": [
      "fdxdx\n",
      "fdxdx\n",
      "fdxdx\n",
      "Itération 0 : 425.14s\n",
      "fdxdx\n",
      "fdxdx\n",
      "fdxdx\n",
      "Itération 1 : 438.55s\n",
      "fdxdx\n",
      "fdxdx\n",
      "fdxdx\n",
      "Itération 2 : 480.14s\n",
      "fdxdx\n",
      "fdxdx\n",
      "fdxdx\n",
      "Itération 3 : 460.7s\n"
     ]
    },
    {
     "data": {
      "text/plain": [
       "{32: 0.10589467711746692, 64: 0.05258872949704528, 128: 0.1523900011088699}"
      ]
     },
     "execution_count": 248,
     "metadata": {},
     "output_type": "execute_result"
    }
   ],
   "source": [
    "choix_neuronnes(units = [32,64,128], layer = 2, data = x, target = y, k = 4)"
   ]
  },
  {
   "cell_type": "markdown",
   "metadata": {},
   "source": [
    "## Etape 5 : Validation du modèle -- itérations"
   ]
  },
  {
   "cell_type": "code",
   "execution_count": 237,
   "metadata": {},
   "outputs": [],
   "source": [
    "# Cross validation pour trouver le nombre d'epochs\n",
    "# In  : k           int,   le nombre de partitions\n",
    "#       epochs      int,   le nombre d'itérations\n",
    "#       data        array, les données d'entrée\n",
    "#       target      array, les cibles correspondant à data\n",
    "#       layer       int,   nombre de hidden layers dans le modèle (2 ou 3)\n",
    "#       units       int,   le nombre d'units dans un layer\n",
    "# Out : toutes le mae par epochs et la moyenne \n",
    "def cross_validation(k,epochs,data,target,layer,units):\n",
    "    nbPoints = len(data)\n",
    "    nbVal = nbPoints//k\n",
    "    scores = []\n",
    "    for i in range(k):\n",
    "        deb = time.time()\n",
    "        # Construction des jeux de données\n",
    "        vali_data = data[i*nbVal:(i+1)*nbVal]\n",
    "        vali_target = target[i*nbVal:(i+1)*nbVal]\n",
    "        train_data = np.array(list(data[:i*nbVal]) + list(data[(i+1)*nbVal:]))\n",
    "        train_target = np.array(list(target[:i*nbVal])+list(target[(i+1)*nbVal:]))\n",
    "        \n",
    "        # Construction du modèle\n",
    "        if layer == 4:\n",
    "            model = build_model_4l(units)\n",
    "        elif layer == 3:\n",
    "            model = build_model_3l(units)\n",
    "        else:\n",
    "            model = build_model_2l(units)\n",
    "            \n",
    "        # Evaluation du modèle\n",
    "        history = model.fit(train_data,train_target,\n",
    "                            validation_data = (vali_data, vali_target),\n",
    "                            epochs = epochs, batch_size = 1, verbose = 0)\n",
    "        mae_hist = history.history['val_mean_absolute_error']\n",
    "        scores.append(mae_hist)\n",
    "        fin = time.time()\n",
    "        print(\"Itération \" + str(i) + ' : ' + str(round(fin-deb,2)) + 's')\n",
    "    return scores, [np.mean([x[j] for x in scores]) for j in range(epochs)]"
   ]
  },
  {
   "cell_type": "code",
   "execution_count": 251,
   "metadata": {
    "scrolled": true
   },
   "outputs": [
    {
     "name": "stdout",
     "output_type": "stream",
     "text": [
      "Itération 0 : 205.0s\n",
      "Itération 1 : 317.61s\n",
      "Itération 2 : 329.4s\n",
      "Itération 3 : 338.02s\n"
     ]
    }
   ],
   "source": [
    "# Appel de l'algo pour déterminer le nombre d'epochs optimal (2 layers)\n",
    "all_mae_hist, mean_mae_hist = cross_validation(k = 4,epochs = 100,data = x, target = y, layer = 2, units = 64)"
   ]
  },
  {
   "cell_type": "code",
   "execution_count": 252,
   "metadata": {},
   "outputs": [
    {
     "data": {
      "image/png": "[encoded data removed]",
      "text/plain": [
       "<Figure size 432x288 with 1 Axes>"
      ]
     },
     "metadata": {
      "needs_background": "light"
     },
     "output_type": "display_data"
    }
   ],
   "source": [
    "# Affichage de la MAE en fonction du nombre d'epochs\n",
    "plt.plot(range(1,len(mean_mae_hist)+1), mean_mae_hist)\n",
    "plt.xlabel('Epochs')\n",
    "plt.ylabel('Validation MAE')\n",
    "plt.title(\"Choix du nombre d'epochs (2 layers)\")\n",
    "plt.show()"
   ]
  },
  {
   "cell_type": "markdown",
   "metadata": {},
   "source": [
    "## Etape 6 : Résultats"
   ]
  },
  {
   "cell_type": "code",
   "execution_count": 253,
   "metadata": {},
   "outputs": [],
   "source": [
    "# Tri d'une liste, sauvegarde de l'ordre\n",
    "# In  : liste   list, la liste à trier\n",
    "# Out : la liste triée et l'ordre\n",
    "def tri(liste):\n",
    "    triee = []\n",
    "    ordre = []\n",
    "    aux = liste.copy()\n",
    "    for i in range(len(liste)):\n",
    "        mini = min(aux)\n",
    "        triee.append(mini)\n",
    "        ordre.append(liste.index(mini))\n",
    "        aux.remove(mini)\n",
    "    return triee, ordre"
   ]
  },
  {
   "cell_type": "code",
   "execution_count": 254,
   "metadata": {},
   "outputs": [],
   "source": [
    "# Tri des sorties selon l'odre des x\n",
    "# In  : liste    list,  la liste des sorties\n",
    "#       ordre    list,  l'ordre du tri\n",
    "# Out : la liste triée\n",
    "def tri_y(liste,ordre):\n",
    "    triee = []\n",
    "    for i in ordre:\n",
    "        triee.append(liste[i])\n",
    "    return triee"
   ]
  },
  {
   "cell_type": "code",
   "execution_count": 255,
   "metadata": {},
   "outputs": [],
   "source": [
    "# Génération des données pour le train\n",
    "x_train, y_train = choix1(1000)"
   ]
  },
  {
   "cell_type": "code",
   "execution_count": 256,
   "metadata": {},
   "outputs": [],
   "source": [
    "# Génération des données pour le test\n",
    "x_test, y_test = choix2(1000)"
   ]
  },
  {
   "cell_type": "code",
   "execution_count": 264,
   "metadata": {},
   "outputs": [
    {
     "data": {
      "text/plain": [
       "<keras.callbacks.History at 0x20adb872208>"
      ]
     },
     "execution_count": 264,
     "metadata": {},
     "output_type": "execute_result"
    }
   ],
   "source": [
    "# Construction du modèle\n",
    "model_res = build_model_2l(64)\n",
    "model_res.fit(x_train,y_train,epochs = 92, batch_size = 16, verbose = 0)"
   ]
  },
  {
   "cell_type": "code",
   "execution_count": 265,
   "metadata": {},
   "outputs": [],
   "source": [
    "# Prédiction du résultat sur le jeu de test\n",
    "y_predict = model_res.predict(x_test)\n",
    "x_test_tri, ordre_tri = tri(x_test)\n",
    "y_test_tri = tri_y(y_test,ordre_tri)\n",
    "y_predict_tri = tri_y(y_predict,ordre_tri)"
   ]
  },
  {
   "cell_type": "code",
   "execution_count": 266,
   "metadata": {},
   "outputs": [
    {
     "data": {
      "image/png": "[encoded data removed]",
      "text/plain": [
       "<Figure size 432x288 with 1 Axes>"
      ]
     },
     "metadata": {
      "needs_background": "light"
     },
     "output_type": "display_data"
    }
   ],
   "source": [
    "# Affichage du résultat\n",
    "plt.plot(x_test_tri,y_predict_tri, color = 'r')\n",
    "plt.plot(x_test_tri,fonc(x_test_tri), color = 'b')\n",
    "plt.legend(['approx.', 'fonction'])\n",
    "plt.xlabel('x')\n",
    "plt.ylabel('fonc(x)')\n",
    "plt.title(\"Comparaison de l'approximation avec la vraie fonction\")\n",
    "plt.show()"
   ]
  },
  {
   "cell_type": "markdown",
   "metadata": {},
   "source": [
    "## Bonus : résultats avec un réseaux plus gros et plus de données"
   ]
  },
  {
   "cell_type": "code",
   "execution_count": 271,
   "metadata": {},
   "outputs": [],
   "source": [
    "# Génération des données pour le test\n",
    "x_bonus, y_bonus =  choix2(10000)"
   ]
  },
  {
   "cell_type": "code",
   "execution_count": 272,
   "metadata": {},
   "outputs": [
    {
     "data": {
      "text/plain": [
       "<keras.callbacks.History at 0x20ade5620b8>"
      ]
     },
     "execution_count": 272,
     "metadata": {},
     "output_type": "execute_result"
    }
   ],
   "source": [
    "# Construction du modèle\n",
    "model_bonus = build_model_4l(512)\n",
    "model_bonus.fit(x_bonus,y_bonus,epochs = 200, batch_size = 16, verbose = 0)"
   ]
  },
  {
   "cell_type": "code",
   "execution_count": 273,
   "metadata": {},
   "outputs": [],
   "source": [
    "# Prédiction du résultat sur le jeu de test\n",
    "y_predict_bonus = model_bonus.predict(x_bonus)\n",
    "x_bonus_tri, ordre_bonus_tri = tri(x_bonus)\n",
    "y_bonus_tri = tri_y(y_bonus,ordre_bonus_tri)\n",
    "y_predict_bonus_tri = tri_y(y_predict_bonus,ordre_bonus_tri)"
   ]
  },
  {
   "cell_type": "code",
   "execution_count": 275,
   "metadata": {
    "scrolled": true
   },
   "outputs": [
    {
     "data": {
      "image/png": "[encoded data removed]",
      "text/plain": [
       "<Figure size 432x288 with 1 Axes>"
      ]
     },
     "metadata": {
      "needs_background": "light"
     },
     "output_type": "display_data"
    }
   ],
   "source": [
    "# Affichage du résultat\n",
    "plt.plot(x_bonus_tri,y_predict_bonus_tri,color = 'r')\n",
    "plt.plot(x_bonus_tri,fonc(x_bonus_tri),color = 'b')\n",
    "plt.legend(['approx.', 'fonction'])\n",
    "plt.xlabel('x')\n",
    "plt.ylabel('fonc(x)')\n",
    "plt.title(\"Comparaison de l'approximation avec la vraie fonction\")\n",
    "plt.show()"
   ]
  }
 ],
 "metadata": {
  "kernelspec": {
   "display_name": "Python 3",
   "language": "python",
   "name": "python3"
  },
  "language_info": {
   "codemirror_mode": {
    "name": "ipython",
    "version": 3
   },
   "file_extension": ".py",
   "mimetype": "text/x-python",
   "name": "python",
   "nbconvert_exporter": "python",
   "pygments_lexer": "ipython3",
   "version": "3.7.3"
  }
 },
 "nbformat": 4,
 "nbformat_minor": 2
}
